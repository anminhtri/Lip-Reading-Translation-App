{
 "cells": [
  {
   "cell_type": "code",
   "execution_count": null,
   "metadata": {
    "colab": {
     "base_uri": "https://localhost:8080/"
    },
    "id": "XgQOE986A97_",
    "outputId": "f5f04b4c-4c78-4ffb-c21a-0fc81a0cc6d8"
   },
   "outputs": [
    {
     "name": "stdout",
     "output_type": "stream",
     "text": [
      "Mounted at /content/drive\n"
     ]
    }
   ],
   "source": [
    "from google.colab import drive\n",
    "drive.mount('/content/drive')"
   ]
  },
  {
   "cell_type": "code",
   "execution_count": null,
   "metadata": {
    "id": "lSlRqpYFA6Io"
   },
   "outputs": [],
   "source": [
    "import tensorflow as tf\n",
    "from tensorflow import keras\n",
    "import os\n",
    "import numpy as np\n",
    "from sklearn.model_selection import train_test_split"
   ]
  },
  {
   "cell_type": "code",
   "execution_count": null,
   "metadata": {
    "id": "h0bGSxe4A6Iq"
   },
   "outputs": [],
   "source": [
    "path = \"drive/MyDrive/Lipread\""
   ]
  },
  {
   "cell_type": "code",
   "execution_count": null,
   "metadata": {
    "id": "xLkb6unpA6Ir"
   },
   "outputs": [],
   "source": [
    "model_path = os.path.join(path, \"model.h5\")"
   ]
  },
  {
   "cell_type": "code",
   "execution_count": null,
   "metadata": {
    "id": "sKOm71JKA6Ir"
   },
   "outputs": [],
   "source": [
    "def CTCLoss(y_true, y_pred):\n",
    "    # Compute the training-time loss value\n",
    "    batch_len = tf.cast(tf.shape(y_true)[0], dtype=\"int64\")\n",
    "    input_length = tf.cast(tf.shape(y_pred)[1], dtype=\"int64\")\n",
    "    label_length = tf.cast(tf.shape(y_true)[1], dtype=\"int64\")\n",
    "\n",
    "    input_length = input_length * tf.ones(shape=(batch_len, 1), dtype=\"int64\")\n",
    "    label_length = label_length * tf.ones(shape=(batch_len, 1), dtype=\"int64\")\n",
    "\n",
    "    loss = keras.backend.ctc_batch_cost(y_true, y_pred, input_length, label_length)\n",
    "    return loss"
   ]
  },
  {
   "cell_type": "code",
   "execution_count": null,
   "metadata": {
    "id": "Y-qN5CfoA6Is"
   },
   "outputs": [],
   "source": [
    "model = tf.keras.models.load_model(model_path, custom_objects={'CTCLoss': CTCLoss})"
   ]
  },
  {
   "cell_type": "code",
   "execution_count": null,
   "metadata": {
    "colab": {
     "base_uri": "https://localhost:8080/"
    },
    "id": "9oMRygmyA6It",
    "outputId": "d04e8c1a-1237-44e4-9bc7-274466f5e367"
   },
   "outputs": [
    {
     "name": "stdout",
     "output_type": "stream",
     "text": [
      "Model: \"sequential\"\n",
      "_________________________________________________________________\n",
      " Layer (type)                Output Shape              Param #   \n",
      "=================================================================\n",
      " conv3d (Conv3D)             (None, 75, 25, 50, 32)    7232      \n",
      "                                                                 \n",
      " batch_normalization (Batch  (None, 75, 25, 50, 32)    128       \n",
      " Normalization)                                                  \n",
      "                                                                 \n",
      " activation (Activation)     (None, 75, 25, 50, 32)    0         \n",
      "                                                                 \n",
      " spatial_dropout3d (Spatial  (None, 75, 25, 50, 32)    0         \n",
      " Dropout3D)                                                      \n",
      "                                                                 \n",
      " max_pooling3d (MaxPooling3  (None, 75, 12, 25, 32)    0         \n",
      " D)                                                              \n",
      "                                                                 \n",
      " conv3d_1 (Conv3D)           (None, 75, 12, 25, 64)    153664    \n",
      "                                                                 \n",
      " batch_normalization_1 (Bat  (None, 75, 12, 25, 64)    256       \n",
      " chNormalization)                                                \n",
      "                                                                 \n",
      " activation_1 (Activation)   (None, 75, 12, 25, 64)    0         \n",
      "                                                                 \n",
      " spatial_dropout3d_1 (Spati  (None, 75, 12, 25, 64)    0         \n",
      " alDropout3D)                                                    \n",
      "                                                                 \n",
      " max_pooling3d_1 (MaxPoolin  (None, 75, 6, 12, 64)     0         \n",
      " g3D)                                                            \n",
      "                                                                 \n",
      " conv3d_2 (Conv3D)           (None, 75, 6, 12, 96)     165984    \n",
      "                                                                 \n",
      " batch_normalization_2 (Bat  (None, 75, 6, 12, 96)     384       \n",
      " chNormalization)                                                \n",
      "                                                                 \n",
      " activation_2 (Activation)   (None, 75, 6, 12, 96)     0         \n",
      "                                                                 \n",
      " spatial_dropout3d_2 (Spati  (None, 75, 6, 12, 96)     0         \n",
      " alDropout3D)                                                    \n",
      "                                                                 \n",
      " max_pooling3d_2 (MaxPoolin  (None, 75, 3, 6, 96)      0         \n",
      " g3D)                                                            \n",
      "                                                                 \n",
      " time_distributed (TimeDist  (None, 75, 1728)          0         \n",
      " ributed)                                                        \n",
      "                                                                 \n",
      " bidirectional (Bidirection  (None, 75, 512)           3050496   \n",
      " al)                                                             \n",
      "                                                                 \n",
      " dropout (Dropout)           (None, 75, 512)           0         \n",
      "                                                                 \n",
      " bidirectional_1 (Bidirecti  (None, 75, 512)           1182720   \n",
      " onal)                                                           \n",
      "                                                                 \n",
      " dropout_1 (Dropout)         (None, 75, 512)           0         \n",
      "                                                                 \n",
      " dense (Dense)               (None, 75, 29)            14877     \n",
      "                                                                 \n",
      "=================================================================\n",
      "Total params: 4575741 (17.46 MB)\n",
      "Trainable params: 4575357 (17.45 MB)\n",
      "Non-trainable params: 384 (1.50 KB)\n",
      "_________________________________________________________________\n"
     ]
    }
   ],
   "source": [
    "model.summary()"
   ]
  },
  {
   "cell_type": "code",
   "execution_count": null,
   "metadata": {
    "colab": {
     "base_uri": "https://localhost:8080/",
     "height": 36
    },
    "id": "cohnArOdA6Iu",
    "outputId": "77548885-6e9a-4db1-a26b-63dae51033d8"
   },
   "outputs": [
    {
     "data": {
      "application/vnd.google.colaboratory.intrinsic+json": {
       "type": "string"
      },
      "text/plain": [
       "'drive/MyDrive/Lipread/x_val.npy'"
      ]
     },
     "execution_count": 8,
     "metadata": {},
     "output_type": "execute_result"
    }
   ],
   "source": [
    "data_path = os.path.join(path, \"x_val.npy\")\n",
    "data_path"
   ]
  },
  {
   "cell_type": "code",
   "execution_count": null,
   "metadata": {
    "colab": {
     "base_uri": "https://localhost:8080/",
     "height": 36
    },
    "id": "PDz_eUhnA6Iu",
    "outputId": "a784271f-953d-4536-8184-e82d3fa66537"
   },
   "outputs": [
    {
     "data": {
      "application/vnd.google.colaboratory.intrinsic+json": {
       "type": "string"
      },
      "text/plain": [
       "'drive/MyDrive/Lipread/y_val.npy'"
      ]
     },
     "execution_count": 9,
     "metadata": {},
     "output_type": "execute_result"
    }
   ],
   "source": [
    "token_path = os.path.join(path, \"y_val.npy\")\n",
    "token_path"
   ]
  },
  {
   "cell_type": "code",
   "execution_count": null,
   "metadata": {
    "id": "ApXuw6pMA6Iv"
   },
   "outputs": [],
   "source": [
    "with tf.device('/CPU:0'):\n",
    "  data = np.load(data_path)"
   ]
  },
  {
   "cell_type": "code",
   "execution_count": null,
   "metadata": {
    "colab": {
     "base_uri": "https://localhost:8080/"
    },
    "id": "J7dHSZ8ZA6Iv",
    "outputId": "db5acc78-c1cc-47ca-fa5d-459926a294e7"
   },
   "outputs": [
    {
     "data": {
      "text/plain": [
       "array([[16, 12,  1, ...,  0,  0,  0],\n",
       "       [12,  1, 25, ...,  0,  0,  0],\n",
       "       [19,  5, 20, ...,  0,  0,  0],\n",
       "       ...,\n",
       "       [16, 12,  1, ...,  0,  0,  0],\n",
       "       [12,  1, 25, ...,  0,  0,  0],\n",
       "       [19,  5, 20, ...,  0,  0,  0]])"
      ]
     },
     "execution_count": 11,
     "metadata": {},
     "output_type": "execute_result"
    }
   ],
   "source": [
    "with tf.device('/CPU:0'):\n",
    "  tokens = np.load(token_path)\n",
    "tokens"
   ]
  },
  {
   "cell_type": "code",
   "execution_count": null,
   "metadata": {
    "colab": {
     "base_uri": "https://localhost:8080/"
    },
    "id": "JZahuHm_A6Iv",
    "outputId": "3f36f0a1-153d-48f2-930f-513640d7866b"
   },
   "outputs": [
    {
     "data": {
      "text/plain": [
       "(1, 75, 50, 100, 3)"
      ]
     },
     "execution_count": 12,
     "metadata": {},
     "output_type": "execute_result"
    }
   ],
   "source": [
    "test = np.array([data[0]])\n",
    "test.shape"
   ]
  },
  {
   "cell_type": "code",
   "execution_count": null,
   "metadata": {
    "colab": {
     "base_uri": "https://localhost:8080/"
    },
    "id": "Zo0nX0CvA6Iw",
    "outputId": "cb4d6274-b427-4253-b121-1a3278ff576c"
   },
   "outputs": [
    {
     "name": "stdout",
     "output_type": "stream",
     "text": [
      "1/1 [==============================] - 3s 3s/step\n"
     ]
    }
   ],
   "source": [
    "pred = model.predict(test)"
   ]
  },
  {
   "cell_type": "code",
   "execution_count": null,
   "metadata": {
    "colab": {
     "base_uri": "https://localhost:8080/"
    },
    "id": "NWHEdcCaGKre",
    "outputId": "4a2f3520-faee-4e4b-f725-beb2c1e4bf81"
   },
   "outputs": [
    {
     "name": "stdout",
     "output_type": "stream",
     "text": [
      "[[[2.7728998e-08 7.6338716e-07 2.0142789e-04 ... 1.0398776e-07\n",
      "   2.4481401e-06 1.5878054e-08]\n",
      "  [1.7674633e-08 1.2174378e-04 3.4090231e-06 ... 9.2722637e-08\n",
      "   4.1156252e-08 1.5850958e-07]\n",
      "  [1.9170782e-08 9.9936301e-01 1.1203183e-06 ... 4.3423338e-08\n",
      "   6.6272414e-09 4.2172851e-06]\n",
      "  ...\n",
      "  [3.1683296e-08 2.9626192e-04 1.6498934e-07 ... 1.2517170e-07\n",
      "   6.1109007e-05 9.9421740e-01]\n",
      "  [5.0475722e-07 4.8327074e-08 1.0699538e-06 ... 3.0184668e-07\n",
      "   9.5517084e-05 9.4804991e-06]\n",
      "  [5.6318083e-08 4.9439397e-08 3.8136696e-07 ... 1.5100633e-07\n",
      "   2.6998325e-04 1.6098704e-07]]]\n"
     ]
    }
   ],
   "source": [
    "print(pred)"
   ]
  },
  {
   "cell_type": "code",
   "execution_count": null,
   "metadata": {
    "colab": {
     "base_uri": "https://localhost:8080/"
    },
    "id": "EynHcwaCA6Iw",
    "outputId": "e88ba5af-be39-4e04-c738-f19185ddb531"
   },
   "outputs": [
    {
     "data": {
      "text/plain": [
       "array([16, 12,  1,  3,  5, 27,  2, 12, 21, 21,  5,  5, 27, 27, 27, 27,  1,\n",
       "       28, 28, 20, 27, 27, 27, 27,  9, 28, 28, 28, 28, 28, 27, 27, 27, 27,\n",
       "        6,  6, 15, 15, 28, 28, 28, 28, 28, 28, 21, 21, 21, 28, 28, 28, 28,\n",
       "       28, 28, 28, 28, 28, 28, 28, 28, 28, 28, 28, 28, 18, 18, 27, 27, 27,\n",
       "       27, 27, 27, 14, 28, 15, 23])"
      ]
     },
     "execution_count": 15,
     "metadata": {},
     "output_type": "execute_result"
    }
   ],
   "source": [
    "y_pred = np.argmax(pred, axis=2)\n",
    "y_pred = y_pred.flatten()\n",
    "y_pred"
   ]
  },
  {
   "cell_type": "code",
   "execution_count": null,
   "metadata": {
    "id": "bYjMOP7BA6Iw"
   },
   "outputs": [],
   "source": [
    "vocab = [x for x in \"abcdefghijklmnopqrstuvwxyz \"]\n",
    "char_to_num = tf.keras.layers.StringLookup(vocabulary=vocab, oov_token=\"\")\n",
    "num_to_char = tf.keras.layers.StringLookup(vocabulary=vocab, oov_token=\"\", invert=True)"
   ]
  },
  {
   "cell_type": "code",
   "execution_count": null,
   "metadata": {
    "id": "5Q7HG0JrbEBO"
   },
   "outputs": [],
   "source": [
    "def decode_ctc_predictions(predictions, blank_token):\n",
    "    decoded_output = []\n",
    "    previous_char = None\n",
    "\n",
    "    for char in predictions:\n",
    "        if char == blank_token:\n",
    "            continue\n",
    "        if char != previous_char:\n",
    "            decoded_output.append(char)\n",
    "        previous_char = char\n",
    "    return ''.join(decoded_output)\n"
   ]
  },
  {
   "cell_type": "code",
   "execution_count": null,
   "metadata": {
    "colab": {
     "base_uri": "https://localhost:8080/"
    },
    "id": "oEwBwGqif5aw",
    "outputId": "22d1eb73-fe3f-42b6-e901-03207e0526b6"
   },
   "outputs": [
    {
     "name": "stdout",
     "output_type": "stream",
     "text": [
      "Non decoded result: tf.Tensor(b'place bluuee    at    i    ffoouuurr      now', shape=(), dtype=string)\n",
      "Decoded result: place blue at i four now\n",
      "True result: place blue at i four now\n"
     ]
    }
   ],
   "source": [
    "text_pred = num_to_char(y_pred)\n",
    "text_true = num_to_char(tokens[0])\n",
    "riel_pred = np.array(text_pred)\n",
    "riel_pred = [i.decode('utf-8') for i in riel_pred]\n",
    "riel_true = np.array(text_true)\n",
    "riel_true = [i.decode('utf-8') for i in riel_true]\n",
    "decoded_result = decode_ctc_predictions(riel_pred, blank_token='')\n",
    "decoded_true = decode_ctc_predictions(riel_true, blank_token='')\n",
    "print(\"Non decoded result:\", tf.strings.reduce_join(text_pred))\n",
    "print(\"Decoded result:\", decoded_result)\n",
    "print(\"True result:\", decoded_true)"
   ]
  }
 ],
 "metadata": {
  "colab": {
   "provenance": []
  },
  "kernelspec": {
   "display_name": "Python 3",
   "name": "python3"
  },
  "language_info": {
   "codemirror_mode": {
    "name": "ipython",
    "version": 3
   },
   "file_extension": ".py",
   "mimetype": "text/x-python",
   "name": "python",
   "nbconvert_exporter": "python",
   "pygments_lexer": "ipython3",
   "version": "3.10.14"
  }
 },
 "nbformat": 4,
 "nbformat_minor": 0
}
