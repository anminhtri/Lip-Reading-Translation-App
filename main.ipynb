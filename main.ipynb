{
 "cells": [
  {
   "cell_type": "code",
   "execution_count": null,
   "metadata": {
    "colab": {
     "base_uri": "https://localhost:8080/"
    },
    "id": "hSWt9Tcb0RmB",
    "outputId": "b4f53079-48d6-4a41-af66-b14dd5b73ebd"
   },
   "outputs": [
    {
     "name": "stdout",
     "output_type": "stream",
     "text": [
      "Mounted at /content/drive\n"
     ]
    }
   ],
   "source": [
    "from google.colab import drive\n",
    "drive.mount('/content/drive')"
   ]
  },
  {
   "cell_type": "code",
   "execution_count": null,
   "metadata": {
    "id": "FjcBFcIQVO9_"
   },
   "outputs": [],
   "source": [
    "import numpy as np\n",
    "import matplotlib.pyplot as plt\n",
    "from sklearn.model_selection import train_test_split\n",
    "import tensorflow as tf\n",
    "import os"
   ]
  },
  {
   "cell_type": "markdown",
   "metadata": {
    "id": "rAgkULgNVoHY"
   },
   "source": [
    "Initialize path"
   ]
  },
  {
   "cell_type": "code",
   "execution_count": null,
   "metadata": {
    "colab": {
     "base_uri": "https://localhost:8080/",
     "height": 36
    },
    "id": "9lxh1MrIVsI-",
    "outputId": "69641e3b-9641-4fd4-88f8-78d14c7f68e9"
   },
   "outputs": [
    {
     "data": {
      "application/vnd.google.colaboratory.intrinsic+json": {
       "type": "string"
      },
      "text/plain": [
       "'drive/MyDrive/Lipread'"
      ]
     },
     "execution_count": 3,
     "metadata": {},
     "output_type": "execute_result"
    }
   ],
   "source": [
    "path = \"drive/MyDrive/Lipread\" # Change to desired data path\n",
    "path"
   ]
  },
  {
   "cell_type": "code",
   "execution_count": null,
   "metadata": {
    "id": "ysTsyc--XtEQ"
   },
   "outputs": [],
   "source": [
    "x_train_path = os.path.join(path, \"x_train.npy\")\n",
    "y_train_path = os.path.join(path, \"y_train.npy\")\n",
    "x_val_path = os.path.join(path, \"x_val.npy\")\n",
    "y_val_path = os.path.join(path, \"y_val.npy\")"
   ]
  },
  {
   "cell_type": "code",
   "execution_count": null,
   "metadata": {
    "id": "cL33o6qaVO-C"
   },
   "outputs": [],
   "source": [
    "with tf.device('/CPU:0'):\n",
    "  x_train = np.load(x_train_path)\n",
    "  y_train = np.load(y_train_path)\n",
    "  x_val = np.load(x_val_path)\n",
    "  y_val = np.load(y_val_path)"
   ]
  },
  {
   "cell_type": "code",
   "execution_count": null,
   "metadata": {
    "colab": {
     "base_uri": "https://localhost:8080/"
    },
    "id": "Ax3YOkHlVO-E",
    "outputId": "7791f806-72c2-459b-d791-2d96ba137f48"
   },
   "outputs": [
    {
     "data": {
      "text/plain": [
       "(75, 50, 100, 3)"
      ]
     },
     "execution_count": 6,
     "metadata": {},
     "output_type": "execute_result"
    }
   ],
   "source": [
    "with tf.device('/CPU:0'):\n",
    "  input_shape = x_train[0].shape\n",
    "input_shape"
   ]
  },
  {
   "cell_type": "markdown",
   "metadata": {
    "id": "xRJZh_05VO-J"
   },
   "source": [
    "Model"
   ]
  },
  {
   "cell_type": "code",
   "execution_count": null,
   "metadata": {
    "id": "O5PyBJ6ZVO-K"
   },
   "outputs": [],
   "source": [
    "from tensorflow.keras.models import Sequential\n",
    "from tensorflow.keras.layers import Conv3D, GRU, Dense, Bidirectional, MaxPool3D, Activation, TimeDistributed, Flatten, SpatialDropout3D, BatchNormalization, Dropout\n",
    "from tensorflow.keras.optimizers import Adam\n",
    "from tensorflow.keras.callbacks import LearningRateScheduler, ModelCheckpoint, CSVLogger, EarlyStopping, ReduceLROnPlateau\n",
    "from tensorflow import keras"
   ]
  },
  {
   "cell_type": "code",
   "execution_count": null,
   "metadata": {
    "id": "LmSH0PRXVO-K"
   },
   "outputs": [],
   "source": [
    "model = Sequential()\n",
    "input_shape = (75, 50, 100, 3)\n",
    "\n",
    "model.add(Conv3D(32, (3, 5, 5), strides=(1, 2, 2), padding='same', input_shape=input_shape, kernel_initializer='he_normal'))\n",
    "model.add(BatchNormalization())\n",
    "model.add(Activation('relu'))\n",
    "model.add(SpatialDropout3D(0.2))\n",
    "model.add(MaxPool3D((1, 2, 2), strides=(1, 2, 2)))\n",
    "\n",
    "model.add(Conv3D(64, (3, 5, 5), strides=(1, 1, 1), padding='same', kernel_initializer='he_normal'))\n",
    "model.add(BatchNormalization())\n",
    "model.add(Activation('relu'))\n",
    "model.add(SpatialDropout3D(0.2))\n",
    "model.add(MaxPool3D((1, 2, 2), strides=(1, 2, 2)))\n",
    "\n",
    "model.add(Conv3D(96, (3, 3, 3), strides=(1, 1, 1), padding='same', kernel_initializer='he_normal'))\n",
    "model.add(BatchNormalization())\n",
    "model.add(Activation('relu'))\n",
    "model.add(SpatialDropout3D(0.2))\n",
    "model.add(MaxPool3D((1, 2, 2), strides=(1, 2, 2)))\n",
    "\n",
    "model.add(TimeDistributed(Flatten()))\n",
    "\n",
    "model.add(Bidirectional(GRU(256, return_sequences=True, kernel_initializer='Orthogonal')))\n",
    "model.add(Dropout(0.5))\n",
    "\n",
    "model.add(Bidirectional(GRU(256, return_sequences=True, kernel_initializer='Orthogonal')))\n",
    "model.add(Dropout(0.5))\n",
    "\n",
    "model.add(Dense(29, kernel_initializer='he_normal', activation='softmax'))"
   ]
  },
  {
   "cell_type": "code",
   "execution_count": null,
   "metadata": {
    "id": "B2S7TLOAVO-N"
   },
   "outputs": [],
   "source": [
    "def CTCLoss(y_true, y_pred):\n",
    "    batch_len = tf.cast(tf.shape(y_true)[0], dtype=\"int64\")\n",
    "    input_length = tf.cast(tf.shape(y_pred)[1], dtype=\"int64\")\n",
    "    input_length = input_length * tf.ones(shape=(batch_len, 1), dtype=\"int64\")\n",
    "\n",
    "    label_length = tf.reduce_sum(tf.cast(tf.not_equal(y_true, 0), dtype=\"int64\"), axis=-1)\n",
    "    label_length = tf.reshape(label_length, [batch_len, 1])\n",
    "\n",
    "    loss = keras.backend.ctc_batch_cost(y_true, y_pred, input_length, label_length)\n",
    "    return loss"
   ]
  },
  {
   "cell_type": "code",
   "execution_count": null,
   "metadata": {
    "id": "JqkiZU93VO-N"
   },
   "outputs": [],
   "source": [
    "model.compile(optimizer=Adam(learning_rate=0.0001), loss=CTCLoss)"
   ]
  },
  {
   "cell_type": "code",
   "execution_count": null,
   "metadata": {
    "id": "NlwkYa_UlYQc"
   },
   "outputs": [],
   "source": [
    "model_path = os.path.join(path, \"model.h5\")\n",
    "checkpoint_callback = ModelCheckpoint(\n",
    "    filepath=model_path,\n",
    "    monitor='val_loss',\n",
    "    save_weights_only=False,\n",
    "    save_best_only=True,\n",
    "    verbose=1\n",
    ")"
   ]
  },
  {
   "cell_type": "code",
   "execution_count": null,
   "metadata": {
    "id": "3eKPIwDCl9CE"
   },
   "outputs": [],
   "source": [
    "csv_path = os.path.join(path, \"training_log.csv\")\n",
    "csv_logger = CSVLogger(csv_path)\n",
    "reduce_lr = ReduceLROnPlateau(monitor='val_loss', factor=0.1, patience=7, min_lr=1e-6)\n",
    "early_stopping_callback = EarlyStopping(monitor='val_loss', patience=15, verbose=1)"
   ]
  },
  {
   "cell_type": "code",
   "execution_count": null,
   "metadata": {
    "id": "t3GuiIUcVO-N"
   },
   "outputs": [],
   "source": [
    "model.fit(x_train, y_train, epochs=250, batch_size=8, validation_data=(x_val, y_val), callbacks=[checkpoint_callback, reduce_lr, csv_logger, early_stopping_callback])"
   ]
  }
 ],
 "metadata": {
  "colab": {
   "provenance": []
  },
  "kernelspec": {
   "display_name": "Python 3",
   "name": "python3"
  },
  "language_info": {
   "codemirror_mode": {
    "name": "ipython",
    "version": 3
   },
   "file_extension": ".py",
   "mimetype": "text/x-python",
   "name": "python",
   "nbconvert_exporter": "python",
   "pygments_lexer": "ipython3",
   "version": "3.10.14"
  }
 },
 "nbformat": 4,
 "nbformat_minor": 0
}
