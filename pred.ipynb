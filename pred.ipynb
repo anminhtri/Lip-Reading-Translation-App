{
 "cells": [
  {
   "cell_type": "code",
   "execution_count": null,
   "metadata": {
    "colab": {
     "base_uri": "https://localhost:8080/"
    },
    "id": "26RYkgYHMWE0",
    "outputId": "f8447d58-144d-49aa-8064-090c67f4cdd8"
   },
   "outputs": [
    {
     "name": "stdout",
     "output_type": "stream",
     "text": [
      "Mounted at /content/drive\n"
     ]
    }
   ],
   "source": [
    "from google.colab import drive\n",
    "drive.mount('/content/drive')"
   ]
  },
  {
   "cell_type": "code",
   "execution_count": null,
   "metadata": {
    "id": "Zar19jfbG8bk"
   },
   "outputs": [],
   "source": [
    "import tensorflow as tf\n",
    "from tensorflow import keras\n",
    "import os\n",
    "import numpy as np"
   ]
  },
  {
   "cell_type": "code",
   "execution_count": null,
   "metadata": {
    "id": "hcb0D9VtG8bn"
   },
   "outputs": [],
   "source": [
    "path = \"drive/MyDrive/Lipread\""
   ]
  },
  {
   "cell_type": "code",
   "execution_count": null,
   "metadata": {
    "id": "kV1J3m1sG8bn"
   },
   "outputs": [],
   "source": [
    "test_data_path = os.path.join(path, \"x_test.npy\")\n",
    "pred_save_path = os.path.join(path, \"pred\")"
   ]
  },
  {
   "cell_type": "code",
   "execution_count": null,
   "metadata": {
    "id": "obpqHJmFG8bo"
   },
   "outputs": [],
   "source": [
    "with tf.device('/CPU:0'):\n",
    "    data = np.load(test_data_path)"
   ]
  },
  {
   "cell_type": "code",
   "execution_count": null,
   "metadata": {
    "colab": {
     "base_uri": "https://localhost:8080/"
    },
    "id": "ZMZqIZixG8bp",
    "outputId": "3c1e06e9-714f-4813-f790-7a627f003d19"
   },
   "outputs": [
    {
     "data": {
      "text/plain": [
       "(200, 75, 50, 100, 3)"
      ]
     },
     "execution_count": 6,
     "metadata": {},
     "output_type": "execute_result"
    }
   ],
   "source": [
    "data.shape"
   ]
  },
  {
   "cell_type": "code",
   "execution_count": null,
   "metadata": {
    "id": "GXmF6xuSG8bq"
   },
   "outputs": [],
   "source": [
    "model_path = os.path.join(path, \"model.h5\")"
   ]
  },
  {
   "cell_type": "code",
   "execution_count": null,
   "metadata": {
    "id": "PmA5PE-eG8br"
   },
   "outputs": [],
   "source": [
    "model = tf.keras.models.load_model(model_path, compile=False)"
   ]
  },
  {
   "cell_type": "code",
   "execution_count": null,
   "metadata": {
    "colab": {
     "base_uri": "https://localhost:8080/"
    },
    "id": "PbqOIo1IG8br",
    "outputId": "92290e8a-7cfb-439d-f64f-dd417bd681f8"
   },
   "outputs": [
    {
     "name": "stdout",
     "output_type": "stream",
     "text": [
      "7/7 [==============================] - 88s 12s/step\n"
     ]
    }
   ],
   "source": [
    "pred = model.predict(data)"
   ]
  },
  {
   "cell_type": "code",
   "execution_count": null,
   "metadata": {
    "colab": {
     "base_uri": "https://localhost:8080/"
    },
    "id": "EFvOEnuKG8bs",
    "outputId": "1a75dcda-c6dd-45d0-c78c-59c558af88a4"
   },
   "outputs": [
    {
     "data": {
      "text/plain": [
       "(200, 75)"
      ]
     },
     "execution_count": 11,
     "metadata": {},
     "output_type": "execute_result"
    }
   ],
   "source": [
    "y_pred = np.argmax(pred, axis=2)\n",
    "y_pred.shape"
   ]
  },
  {
   "cell_type": "code",
   "execution_count": null,
   "metadata": {
    "colab": {
     "base_uri": "https://localhost:8080/"
    },
    "id": "I-eVzQfPG8bs",
    "outputId": "ea6a8e8f-3902-493e-cd4e-f8e641719372"
   },
   "outputs": [
    {
     "data": {
      "text/plain": [
       "array([12, 12,  1, 25, 27, 27,  2,  8,  2, 28,  5,  5, 27, 27, 27, 27,  2,\n",
       "       28, 28, 25, 27, 27, 27, 27, 12, 28, 28, 28, 28, 14, 14,  9,  9, 28,\n",
       "       28, 28, 28, 28, 28, 28, 28, 28, 28, 28, 28, 28, 28, 28, 28, 28, 28,\n",
       "       28, 28, 28, 28, 28, 28, 28, 28, 28, 28, 14, 14,  5,  5, 27, 27, 27,\n",
       "       27, 27,  1,  7,  1,  9, 14])"
      ]
     },
     "execution_count": 12,
     "metadata": {},
     "output_type": "execute_result"
    }
   ],
   "source": [
    "y_pred[199]"
   ]
  },
  {
   "cell_type": "code",
   "execution_count": null,
   "metadata": {
    "id": "2ZXGREx9MLWT"
   },
   "outputs": [],
   "source": [
    "np.save(pred_save_path,y_pred)"
   ]
  }
 ],
 "metadata": {
  "colab": {
   "provenance": []
  },
  "kernelspec": {
   "display_name": "Python 3",
   "language": "python",
   "name": "python3"
  },
  "language_info": {
   "codemirror_mode": {
    "name": "ipython",
    "version": 3
   },
   "file_extension": ".py",
   "mimetype": "text/x-python",
   "name": "python",
   "nbconvert_exporter": "python",
   "pygments_lexer": "ipython3",
   "version": "3.10.14"
  }
 },
 "nbformat": 4,
 "nbformat_minor": 0
}
