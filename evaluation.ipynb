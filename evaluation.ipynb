{
 "cells": [
  {
   "cell_type": "code",
   "execution_count": null,
   "metadata": {
    "colab": {
     "base_uri": "https://localhost:8080/"
    },
    "id": "mVlrzYOsN0ZF",
    "outputId": "ff117220-953a-47f1-d260-f51c3cd27b0e"
   },
   "outputs": [
    {
     "name": "stdout",
     "output_type": "stream",
     "text": [
      "Mounted at /content/drive\n"
     ]
    }
   ],
   "source": [
    "from google.colab import drive\n",
    "drive.mount('/content/drive')"
   ]
  },
  {
   "cell_type": "code",
   "execution_count": null,
   "metadata": {
    "id": "Aps9ZGVPKG61"
   },
   "outputs": [],
   "source": [
    "import numpy as np\n",
    "import tensorflow as tf\n",
    "import os\n",
    "import editdistance\n",
    "import re"
   ]
  },
  {
   "cell_type": "code",
   "execution_count": null,
   "metadata": {
    "id": "ORt4y-kZNxrz"
   },
   "outputs": [],
   "source": [
    "path = \"drive/MyDrive/Lipread\"\n",
    "pred_path = os.path.join(path, 'pred.npy')\n",
    "test_path = os.path.join(path, 'y_test.npy')"
   ]
  },
  {
   "cell_type": "code",
   "execution_count": null,
   "metadata": {
    "id": "092jkIlfOD3b"
   },
   "outputs": [],
   "source": [
    "preds = np.load(pred_path)\n",
    "tests = np.load(test_path)"
   ]
  },
  {
   "cell_type": "code",
   "execution_count": null,
   "metadata": {
    "id": "z3DHTDgfNUrz"
   },
   "outputs": [],
   "source": [
    "vocab = [x for x in \"abcdefghijklmnopqrstuvwxyz \"]\n",
    "char_to_num = tf.keras.layers.StringLookup(vocabulary=vocab, oov_token=\"\")\n",
    "num_to_char = tf.keras.layers.StringLookup(vocabulary=vocab, oov_token=\"\", invert=True)"
   ]
  },
  {
   "cell_type": "code",
   "execution_count": null,
   "metadata": {
    "id": "cji9JhW7NgOA"
   },
   "outputs": [],
   "source": [
    "def decode_ctc_predictions(predictions, blank_token):\n",
    "    decoded_output = []\n",
    "    previous_char = None\n",
    "\n",
    "    for char in predictions:\n",
    "        if char == blank_token:\n",
    "            continue\n",
    "        if char != previous_char:\n",
    "            decoded_output.append(char)\n",
    "        previous_char = char\n",
    "    return ''.join(decoded_output)"
   ]
  },
  {
   "cell_type": "code",
   "execution_count": null,
   "metadata": {
    "colab": {
     "base_uri": "https://localhost:8080/"
    },
    "id": "2qsMYLzkOdG7",
    "outputId": "61547ccc-791a-4d91-b9e4-bcdfb062bd7a"
   },
   "outputs": [
    {
     "name": "stdout",
     "output_type": "stream",
     "text": [
      "Non decoded result: tf.Tensor(b'place rrreed   at    q     fffoouurrr     now', shape=(), dtype=string)\n",
      "Decoded result: place red at q four now\n",
      "True result: place red in v four now\n"
     ]
    }
   ],
   "source": [
    "text_pred = num_to_char(preds[0])\n",
    "text_true = num_to_char(tests[0])\n",
    "riel_pred = np.array(text_pred)\n",
    "riel_pred = [i.decode('utf-8') for i in riel_pred]\n",
    "riel_true = np.array(text_true)\n",
    "riel_true = [i.decode('utf-8') for i in riel_true]\n",
    "decoded_result = decode_ctc_predictions(riel_pred, blank_token='')\n",
    "decoded_true = decode_ctc_predictions(riel_true, blank_token='')\n",
    "print(\"Non decoded result:\", tf.strings.reduce_join(text_pred))\n",
    "print(\"Decoded result:\", decoded_result)\n",
    "print(\"True result:\", decoded_true)"
   ]
  },
  {
   "cell_type": "code",
   "execution_count": null,
   "metadata": {
    "id": "7CQENVE2PGEC"
   },
   "outputs": [],
   "source": [
    "text_preds = []\n",
    "text_trues = []\n",
    "for i in range(len(preds)):\n",
    "    text_pred = num_to_char(preds[i])\n",
    "    text_true = num_to_char(tests[i])\n",
    "    riel_pred = np.array(text_pred)\n",
    "    riel_pred = [i.decode('utf-8') for i in riel_pred]\n",
    "    riel_true = np.array(text_true)\n",
    "    riel_true = [i.decode('utf-8') for i in riel_true]\n",
    "    decoded_result = decode_ctc_predictions(riel_pred, blank_token='')\n",
    "    decoded_true = decode_ctc_predictions(riel_true, blank_token='')\n",
    "    text_preds.append(decoded_result)\n",
    "    text_trues.append(decoded_true)"
   ]
  },
  {
   "cell_type": "code",
   "execution_count": null,
   "metadata": {
    "id": "O6Fh8iDqKMqQ"
   },
   "outputs": [],
   "source": [
    "def normalize_text(text):\n",
    "    text = text.lower()\n",
    "    text = re.sub(r'[^\\w\\s]', '', text)\n",
    "    text = re.sub(r'\\s+', ' ', text).strip()\n",
    "    return text\n",
    "\n",
    "def wer(reference, hypothesis):\n",
    "    reference = normalize_text(reference)\n",
    "    hypothesis = normalize_text(hypothesis)\n",
    "\n",
    "    ref_words = reference.split()\n",
    "    hyp_words = hypothesis.split()\n",
    "\n",
    "    edit_distance = editdistance.eval(ref_words, hyp_words)\n",
    "\n",
    "    wer_value = edit_distance / len(ref_words)\n",
    "    return wer_value\n",
    "\n",
    "def average_wer(references, hypotheses):\n",
    "    total_wer = 0\n",
    "    for ref, hyp in zip(references, hypotheses):\n",
    "        total_wer += wer(ref, hyp)\n",
    "\n",
    "    average_wer_value = total_wer / len(references)\n",
    "    return average_wer_value"
   ]
  },
  {
   "cell_type": "code",
   "execution_count": null,
   "metadata": {
    "id": "7hzlFsI8QBR6"
   },
   "outputs": [],
   "source": [
    "def normalize_text(text):\n",
    "    text = text.lower()\n",
    "    text = re.sub(r'[^\\w\\s]', '', text)\n",
    "    text = re.sub(r'\\s+', ' ', text).strip()\n",
    "    return text\n",
    "\n",
    "def cer(reference, hypothesis):\n",
    "    reference = normalize_text(reference)\n",
    "    hypothesis = normalize_text(hypothesis)\n",
    "\n",
    "    ref_chars = list(reference.replace(' ', ''))\n",
    "    hyp_chars = list(hypothesis.replace(' ', ''))\n",
    "\n",
    "    edit_distance = editdistance.eval(ref_chars, hyp_chars)\n",
    "\n",
    "    cer_value = edit_distance / len(ref_chars)\n",
    "    return cer_value\n",
    "\n",
    "def average_cer(references, hypotheses):\n",
    "    total_cer = 0\n",
    "    for ref, hyp in zip(references, hypotheses):\n",
    "        total_cer += cer(ref, hyp)\n",
    "\n",
    "    average_cer_value = total_cer / len(references)\n",
    "    return average_cer_value\n"
   ]
  },
  {
   "cell_type": "code",
   "execution_count": null,
   "metadata": {
    "colab": {
     "base_uri": "https://localhost:8080/"
    },
    "id": "vFBX_huUQFh0",
    "outputId": "3d23e73c-a290-4b71-e95c-caf99bd5507e"
   },
   "outputs": [
    {
     "name": "stdout",
     "output_type": "stream",
     "text": [
      "Average WER: 0.224\n",
      "Average CER: 0.101\n"
     ]
    }
   ],
   "source": [
    "average_wer_value = average_wer(text_trues, text_preds)\n",
    "print(f\"Average WER: {average_wer_value:.3f}\")\n",
    "average_cer_value = average_cer(text_trues, text_preds)\n",
    "print(f\"Average CER: {average_cer_value:.3f}\")"
   ]
  }
 ],
 "metadata": {
  "colab": {
   "provenance": []
  },
  "kernelspec": {
   "display_name": "Python 3",
   "name": "python3"
  },
  "language_info": {
   "name": "python"
  }
 },
 "nbformat": 4,
 "nbformat_minor": 0
}
